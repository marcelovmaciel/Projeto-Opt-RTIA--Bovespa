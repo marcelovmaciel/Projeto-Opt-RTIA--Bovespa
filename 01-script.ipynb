{
 "cells": [
  {
   "cell_type": "markdown",
   "metadata": {},
   "source": [
    "- Inicializou a população ;\n",
    "- Quer calcular o fitness dos pais :\n",
    "  - Indice ibovespa;\n",
    "  - Media ponderada dos indices de crescimento de cada cromossomo:\n",
    "    - Pra cada alelo:\n",
    "      - (Close - Open)/Open ; __só para um dia??__\n",
    "  - Fitness = min((Média - Indice)^2)\n",
    "  "
   ]
  },
  {
   "cell_type": "markdown",
   "metadata": {},
   "source": [
    "- Indice no dia;\n",
    "\n",
    "-Dataframe =  2 colunas:\n",
    " - Primeira: Label;\n",
    " - Segunda: Crescimento no dia;\n",
    " - Um dia em particular."
   ]
  },
  {
   "cell_type": "code",
   "execution_count": 1,
   "metadata": {},
   "outputs": [],
   "source": [
    "import pandas as pd\n",
    "import datetime\n",
    "import bovespa as bv\n",
    "import numpy as np\n",
    "import pickle\n",
    "import random\n",
    "import pygmo\n",
    "import pandas as pd"
   ]
  },
  {
   "cell_type": "code",
   "execution_count": 2,
   "metadata": {},
   "outputs": [],
   "source": [
    "ibvday = pd.read_excel(\"dados/IBOVDIA.XLS\", header = 1)\n",
    "ibvday.set_index(\"PREGÃO\", inplace = True)"
   ]
  },
  {
   "cell_type": "code",
   "execution_count": 3,
   "metadata": {
    "scrolled": true
   },
   "outputs": [
    {
     "data": {
      "text/html": [
       "<div>\n",
       "<style scoped>\n",
       "    .dataframe tbody tr th:only-of-type {\n",
       "        vertical-align: middle;\n",
       "    }\n",
       "\n",
       "    .dataframe tbody tr th {\n",
       "        vertical-align: top;\n",
       "    }\n",
       "\n",
       "    .dataframe thead th {\n",
       "        text-align: right;\n",
       "    }\n",
       "</style>\n",
       "<table border=\"1\" class=\"dataframe\">\n",
       "  <thead>\n",
       "    <tr style=\"text-align: right;\">\n",
       "      <th></th>\n",
       "      <th>JAN</th>\n",
       "      <th>FEV</th>\n",
       "      <th>MAR</th>\n",
       "      <th>ABR</th>\n",
       "      <th>MAIO</th>\n",
       "      <th>JUN</th>\n",
       "      <th>JUL</th>\n",
       "      <th>AGO</th>\n",
       "      <th>SET</th>\n",
       "      <th>OUT</th>\n",
       "      <th>NOV</th>\n",
       "      <th>DEZ</th>\n",
       "    </tr>\n",
       "    <tr>\n",
       "      <th>PREGÃO</th>\n",
       "      <th></th>\n",
       "      <th></th>\n",
       "      <th></th>\n",
       "      <th></th>\n",
       "      <th></th>\n",
       "      <th></th>\n",
       "      <th></th>\n",
       "      <th></th>\n",
       "      <th></th>\n",
       "      <th></th>\n",
       "      <th></th>\n",
       "      <th></th>\n",
       "    </tr>\n",
       "  </thead>\n",
       "  <tbody>\n",
       "    <tr>\n",
       "      <th>1</th>\n",
       "      <td>NaN</td>\n",
       "      <td>NaN</td>\n",
       "      <td>NaN</td>\n",
       "      <td>9138.3</td>\n",
       "      <td>NaN</td>\n",
       "      <td>NaN</td>\n",
       "      <td>13002.2</td>\n",
       "      <td>12259.1</td>\n",
       "      <td>10109.1</td>\n",
       "      <td>12173.4</td>\n",
       "      <td>NaN</td>\n",
       "      <td>9648.4</td>\n",
       "    </tr>\n",
       "    <tr>\n",
       "      <th>2</th>\n",
       "      <td>6955.54</td>\n",
       "      <td>NaN</td>\n",
       "      <td>NaN</td>\n",
       "      <td>9237.3</td>\n",
       "      <td>10074.2</td>\n",
       "      <td>11360.8</td>\n",
       "      <td>13259.6</td>\n",
       "      <td>NaN</td>\n",
       "      <td>11062.9</td>\n",
       "      <td>12396.6</td>\n",
       "      <td>NaN</td>\n",
       "      <td>9964.3</td>\n",
       "    </tr>\n",
       "    <tr>\n",
       "      <th>3</th>\n",
       "      <td>6997.75</td>\n",
       "      <td>8095.94</td>\n",
       "      <td>8978.2</td>\n",
       "      <td>9302.1</td>\n",
       "      <td>NaN</td>\n",
       "      <td>11110.4</td>\n",
       "      <td>13284.8</td>\n",
       "      <td>NaN</td>\n",
       "      <td>11119.4</td>\n",
       "      <td>12540.9</td>\n",
       "      <td>9858.0</td>\n",
       "      <td>9991.7</td>\n",
       "    </tr>\n",
       "    <tr>\n",
       "      <th>4</th>\n",
       "      <td>NaN</td>\n",
       "      <td>8102.25</td>\n",
       "      <td>8961.4</td>\n",
       "      <td>9705.2</td>\n",
       "      <td>NaN</td>\n",
       "      <td>11029.9</td>\n",
       "      <td>13493.8</td>\n",
       "      <td>12016.9</td>\n",
       "      <td>11430.6</td>\n",
       "      <td>NaN</td>\n",
       "      <td>10254.1</td>\n",
       "      <td>10046.3</td>\n",
       "    </tr>\n",
       "    <tr>\n",
       "      <th>5</th>\n",
       "      <td>NaN</td>\n",
       "      <td>8171.18</td>\n",
       "      <td>9074.4</td>\n",
       "      <td>NaN</td>\n",
       "      <td>9993.5</td>\n",
       "      <td>11106.3</td>\n",
       "      <td>NaN</td>\n",
       "      <td>11908.6</td>\n",
       "      <td>11838.3</td>\n",
       "      <td>NaN</td>\n",
       "      <td>9988.3</td>\n",
       "      <td>10080.0</td>\n",
       "    </tr>\n",
       "  </tbody>\n",
       "</table>\n",
       "</div>"
      ],
      "text/plain": [
       "            JAN      FEV     MAR     ABR     MAIO      JUN      JUL      AGO  \\\n",
       "PREGÃO                                                                         \n",
       "1           NaN      NaN     NaN  9138.3      NaN      NaN  13002.2  12259.1   \n",
       "2       6955.54      NaN     NaN  9237.3  10074.2  11360.8  13259.6      NaN   \n",
       "3       6997.75  8095.94  8978.2  9302.1      NaN  11110.4  13284.8      NaN   \n",
       "4           NaN  8102.25  8961.4  9705.2      NaN  11029.9  13493.8  12016.9   \n",
       "5           NaN  8171.18  9074.4     NaN   9993.5  11106.3      NaN  11908.6   \n",
       "\n",
       "            SET      OUT      NOV      DEZ  \n",
       "PREGÃO                                      \n",
       "1       10109.1  12173.4      NaN   9648.4  \n",
       "2       11062.9  12396.6      NaN   9964.3  \n",
       "3       11119.4  12540.9   9858.0   9991.7  \n",
       "4       11430.6      NaN  10254.1  10046.3  \n",
       "5       11838.3      NaN   9988.3  10080.0  "
      ]
     },
     "execution_count": 3,
     "metadata": {},
     "output_type": "execute_result"
    }
   ],
   "source": [
    "ibvday.head()"
   ]
  },
  {
   "cell_type": "code",
   "execution_count": 4,
   "metadata": {},
   "outputs": [],
   "source": [
    "luanindex = ((ibvday.loc[13][\"JUN\"] - ibvday.loc[12][\"JUN\"])/ibvday.loc[12][\"JUN\"]) "
   ]
  },
  {
   "cell_type": "code",
   "execution_count": 5,
   "metadata": {},
   "outputs": [
    {
     "data": {
      "text/plain": [
       "-0.00198282117484264"
      ]
     },
     "execution_count": 5,
     "metadata": {},
     "output_type": "execute_result"
    }
   ],
   "source": [
    "luanindex"
   ]
  },
  {
   "cell_type": "code",
   "execution_count": 6,
   "metadata": {},
   "outputs": [],
   "source": [
    "empresas_top = [\"CSNA3\", \"RADL3\", \"BVMF3\", \"MULT3\",\n",
    "                \"SBSP3\", \"CPFE3\", \"BBDC4\", \"BRML3\",\n",
    "                \"BBDC3\", \"EQTL3\", \"CSAN3\", \"PETR4\",\n",
    "                \"SMLE3\", \"LREN3\", \"KROT3\", \"PETR3\",\n",
    "                \"USIM5\", \"CMIG4\", \"QUAL3\", \"MRVE3\",\n",
    "                \"GGBR4\", \"VALE5\", \"CCRO3\", \"VIVT4\",\n",
    "                \"VALE3\", \"GOAU4\", \"ITSA4\", \"CIEL3\",\n",
    "                \"TBLE3\", \"EMBR3\"]"
   ]
  },
  {
   "cell_type": "code",
   "execution_count": 7,
   "metadata": {
    "scrolled": false
   },
   "outputs": [],
   "source": [
    "bf = bv.File(\"dados/COTAHIST_A2018.TXT\")\n",
    "acc = []\n",
    "for rec in bf.query():\n",
    "    if rec.date.year == 2018 and (rec.date.month == 6) :\n",
    "        acc.append(rec)"
   ]
  },
  {
   "cell_type": "code",
   "execution_count": 8,
   "metadata": {},
   "outputs": [],
   "source": [
    "subset = dict()\n",
    "\n",
    "for (key, value) in zip(['date', 'price_open', \"price_close\", \"stock_code\"],\n",
    "                        list(zip(*list(map(lambda foo: (foo.date, \n",
    "                                                    foo.price_open,\n",
    "                                                    foo.price_close,\n",
    "                                                    foo.stock_code, foo.company_name), acc))))):\n",
    "    subset[key] = list(value)\n",
    "    "
   ]
  },
  {
   "cell_type": "code",
   "execution_count": 9,
   "metadata": {},
   "outputs": [],
   "source": [
    "df = pd.DataFrame.from_dict(subset)\n",
    "topdf = df[df['stock_code'].isin(empresas_top)]"
   ]
  },
  {
   "cell_type": "code",
   "execution_count": 10,
   "metadata": {},
   "outputs": [],
   "source": [
    "ourdaydf = (topdf[topdf[\"date\"].map(lambda x: (x.day == 12 or x.day == 13))]\n",
    "            .set_index(\"stock_code\")\n",
    "            .drop(\"price_open\", axis = 1))"
   ]
  },
  {
   "cell_type": "code",
   "execution_count": 11,
   "metadata": {},
   "outputs": [],
   "source": [
    "df13 = ourdaydf[ourdaydf['date'] == datetime.date(2018, 6, 13)]\n",
    "df12 = ourdaydf[ourdaydf['date'] == datetime.date(2018, 6, 12)]"
   ]
  },
  {
   "cell_type": "code",
   "execution_count": 12,
   "metadata": {},
   "outputs": [],
   "source": [
    "stock12_13_variation = ((df13[\"price_close\"] - df12[\"price_close\"])/df12[\"price_close\"]).dropna()"
   ]
  },
  {
   "cell_type": "code",
   "execution_count": 15,
   "metadata": {},
   "outputs": [],
   "source": [
    "# import pickle\n",
    "# pickle.dump((luanindex,stock12_13_variation ) , open(\"stockstuff.pickle.dat\", \"wb\"))"
   ]
  },
  {
   "cell_type": "code",
   "execution_count": 2,
   "metadata": {},
   "outputs": [],
   "source": [
    "import pickle \n",
    "\n",
    "luanindex,stock12_13_variation= pickle.load(open(\"stockstuff.pickle.dat\", \"rb\"))"
   ]
  },
  {
   "cell_type": "code",
   "execution_count": null,
   "metadata": {},
   "outputs": [],
   "source": []
  },
  {
   "cell_type": "code",
   "execution_count": 5,
   "metadata": {},
   "outputs": [],
   "source": [
    "#criar população \n",
    "def inicializacao_populacao():\n",
    "    pop =  [[]]*50\n",
    "    pop = [list(zip(np.array(random.sample(range(26), 12)), np.random.dirichlet(np.ones(12),size=1)[0])) for i in range(0, 50)]\n",
    "    pop = np.array(list(map(list, pop)))\n",
    "    return pop\n",
    "\n",
    "\n",
    "#cruzamento\n",
    "def cruzamento(pai_1, pai_2):\n",
    "    child = list(zip(pai_1[:,0], pai_2[:,1]))\n",
    "    return child\n",
    "\n"
   ]
  },
  {
   "cell_type": "code",
   "execution_count": 8,
   "metadata": {},
   "outputs": [],
   "source": [
    "faturamento_empresas_top = stock12_13_variation\n",
    "ibovespa =  luanindex\n",
    "\n",
    "def function_fitness_risk(pop): \n",
    "    return [np.abs(np.sum(faturamento_empresas_top[w[:,0].astype('int')]*w[:,1]) - ibovespa) for w in pop]\n",
    "\n",
    "def function_fitness_std(pop):\n",
    "    return(list(map(lambda x: np.std(x[:,1]), pop)))"
   ]
  },
  {
   "cell_type": "code",
   "execution_count": 9,
   "metadata": {},
   "outputs": [],
   "source": [
    "def get_fitness(pop):\n",
    "    return(tuple(map(lambda fn: fn(pop),[function_fitness_risk, function_fitness_std])))"
   ]
  },
  {
   "cell_type": "code",
   "execution_count": 10,
   "metadata": {},
   "outputs": [],
   "source": [
    "def get_sorted_pop(pop, fitness_risk, fitness_std):\n",
    "\n",
    "    points = list(zip(fitness_risk, fitness_std))\n",
    "    \n",
    "    #get pareto ranks and crowding distances\n",
    "    _, _, _, non_domination_rank = pygmo.fast_non_dominated_sorting(points = points)\n",
    "    crowding_distance = pygmo.crowding_distance(points)\n",
    "    \n",
    "    #sort pop by pareto ranks then by crowding distances\n",
    "    df = pd.DataFrame.from_dict({\"popindex\": list(range(len(pop))),\n",
    "                             \"ndr\": non_domination_rank, \"cd\": crowding_distance})\n",
    "    \n",
    "    pop_fitness_sort = pop[df.sort_values([\"ndr\", \"cd\"], \n",
    "                                          ascending = [True, False]).popindex.values];\n",
    "    \n",
    "    return(pop_fitness_sort)\n",
    "    \n",
    "    \n",
    "def get_children(pop_fitness_sort):\n",
    "    parent_1 = pop_fitness_sort[0:25]\n",
    "    parent_2 = pop_fitness_sort[25::]\n",
    "    #cruzamento\n",
    "    child_1 = np.array(list(map(list,\n",
    "                                [cruzamento(parent_1[i], parent_2[i]) for i in range(0, len(parent_1))])))\n",
    "    child_2 = np.array(list(map(list,\n",
    "                                [cruzamento(parent_2[i], parent_1[i]) for i in range(0, len(parent_1))])))\n",
    "    return(np.concatenate((child_1, child_2)))"
   ]
  },
  {
   "cell_type": "code",
   "execution_count": 14,
   "metadata": {},
   "outputs": [],
   "source": [
    "\n",
    "#inicializa a população\n",
    "pop = inicializacao_populacao()"
   ]
  },
  {
   "cell_type": "code",
   "execution_count": 17,
   "metadata": {},
   "outputs": [],
   "source": [
    "\n",
    "def run_ga(pop):\n",
    "    \n",
    "    for j in range(0, 100):\n",
    "        fitness_risk, fitness_std = get_fitness(pop)\n",
    "        sorted_parents = get_sorted_pop(pop, fitness_risk, fitness_std)\n",
    "        childs = get_children(sorted_parents)\n",
    "        fitness_risk_childs, fitness_std_childs = get_fitness(childs)\n",
    "\n",
    "        fitness_risk.extend(fitness_risk_childs)\n",
    "        fitness_std.extend(fitness_std_childs)\n",
    "\n",
    "        sorted_pop = get_sorted_pop(np.concatenate((pop,childs)), fitness_risk, fitness_std)\n",
    "        pop = sorted_pop[0:50]\n",
    "    return(pop)"
   ]
  },
  {
   "cell_type": "code",
   "execution_count": 25,
   "metadata": {},
   "outputs": [
    {
     "data": {
      "text/plain": [
       "[[[7.380975483668208e-06], [0.06031862925726255]],\n",
       " [[0.0001092957168422619], [0.043239930142037517]],\n",
       " [[5.957376046905778e-05], [0.05550620514724296]],\n",
       " [[0.0001092957168422619], [0.043239930142037517]],\n",
       " [[0.0001092957168422619], [0.043239930142037517]]]"
      ]
     },
     "execution_count": 25,
     "metadata": {},
     "output_type": "execute_result"
    }
   ],
   "source": [
    "list(map(lambda x: list(map(lambda fn: fn([x]),[function_fitness_risk, function_fitness_std])), \n",
    "         [pop2[i] for i in range(5)]))"
   ]
  },
  {
   "cell_type": "code",
   "execution_count": null,
   "metadata": {},
   "outputs": [],
   "source": []
  }
 ],
 "metadata": {
  "kernelspec": {
   "display_name": "Python 3",
   "language": "python",
   "name": "python3"
  },
  "language_info": {
   "codemirror_mode": {
    "name": "ipython",
    "version": 3
   },
   "file_extension": ".py",
   "mimetype": "text/x-python",
   "name": "python",
   "nbconvert_exporter": "python",
   "pygments_lexer": "ipython3",
   "version": "3.6.8"
  },
  "varInspector": {
   "cols": {
    "lenName": 16,
    "lenType": 16,
    "lenVar": 40
   },
   "kernels_config": {
    "python": {
     "delete_cmd_postfix": "",
     "delete_cmd_prefix": "del ",
     "library": "var_list.py",
     "varRefreshCmd": "print(var_dic_list())"
    },
    "r": {
     "delete_cmd_postfix": ") ",
     "delete_cmd_prefix": "rm(",
     "library": "var_list.r",
     "varRefreshCmd": "cat(var_dic_list()) "
    }
   },
   "oldHeight": 122.84966599999998,
   "position": {
    "height": "144.183px",
    "left": "969.333px",
    "right": "20px",
    "top": "120px",
    "width": "290.667px"
   },
   "types_to_exclude": [
    "module",
    "function",
    "builtin_function_or_method",
    "instance",
    "_Feature"
   ],
   "varInspector_section_display": "block",
   "window_display": false
  }
 },
 "nbformat": 4,
 "nbformat_minor": 2
}
