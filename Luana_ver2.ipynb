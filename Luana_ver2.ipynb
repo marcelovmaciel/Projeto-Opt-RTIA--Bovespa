{
 "cells": [
  {
   "cell_type": "code",
   "execution_count": 2,
   "metadata": {},
   "outputs": [],
   "source": [
    "import numpy as np \n",
    "import pandas as pd \n",
    "import matplotlib.pyplot as plt \n",
    "#import seaborn as  sns \n",
    "import itertools\n",
    "from sklearn.impute import SimpleImputer\n",
    "from sklearn import preprocessing\n",
    "from sklearn.utils import shuffle\n",
    "from sklearn.model_selection import train_test_split"
   ]
  },
  {
   "cell_type": "code",
   "execution_count": 3,
   "metadata": {},
   "outputs": [
    {
     "name": "stderr",
     "output_type": "stream",
     "text": [
      "c:\\users\\fitec\\appdata\\local\\programs\\python\\python37\\lib\\site-packages\\IPython\\core\\interactiveshell.py:3020: DtypeWarning: Columns (25) have mixed types. Specify dtype option on import or set low_memory=False.\n",
      "  interactivity=interactivity, compiler=compiler, result=result)\n"
     ]
    }
   ],
   "source": [
    "df = pd.read_csv('C:/Users/fitec/Downloads/2019INOUT_220419.csv', sep =',',nrows=None, na_values=r'\\N')\n",
    "df_copy = df.copy()"
   ]
  },
  {
   "cell_type": "code",
   "execution_count": 12,
   "metadata": {},
   "outputs": [
    {
     "data": {
      "text/plain": [
       "Index(['location_accuracy', 'location_provider', 'misc_time_zone_id',\n",
       "       'wifi_rssi', 'wifi_link_speed', 'wifi_frequency', 'network_type',\n",
       "       'sensor_ambient_illuminance', 'sensor_ambient_pressure',\n",
       "       'signal_strength_lte_cqi', 'sensor_geomagnetic_x',\n",
       "       'sensor_geomagnetic_y', 'sensor_geomagnetic_z',\n",
       "       'signal_strength_lte_rsrp', 'sound_level', 'sensor_proximity',\n",
       "       'sensor_accelerometer_x', 'sensor_accelerometer_y',\n",
       "       'sensor_accelerometer_z', 'location_speed', 'speed_in_cell',\n",
       "       'time_in_cell', 'meta_indoor', 'meta_indoor_probability',\n",
       "       'meta_outdoor_probability', 'training_tag'],\n",
       "      dtype='object')"
      ]
     },
     "execution_count": 12,
     "metadata": {},
     "output_type": "execute_result"
    }
   ],
   "source": [
    "df.columns"
   ]
  },
  {
   "cell_type": "code",
   "execution_count": 24,
   "metadata": {},
   "outputs": [
    {
     "data": {
      "text/html": [
       "<div>\n",
       "<style scoped>\n",
       "    .dataframe tbody tr th:only-of-type {\n",
       "        vertical-align: middle;\n",
       "    }\n",
       "\n",
       "    .dataframe tbody tr th {\n",
       "        vertical-align: top;\n",
       "    }\n",
       "\n",
       "    .dataframe thead th {\n",
       "        text-align: right;\n",
       "    }\n",
       "</style>\n",
       "<table border=\"1\" class=\"dataframe\">\n",
       "  <thead>\n",
       "    <tr style=\"text-align: right;\">\n",
       "      <th></th>\n",
       "      <th>location_accuracy</th>\n",
       "      <th>location_provider</th>\n",
       "      <th>misc_time_zone_id</th>\n",
       "      <th>wifi_rssi</th>\n",
       "      <th>wifi_link_speed</th>\n",
       "      <th>wifi_frequency</th>\n",
       "      <th>network_type</th>\n",
       "      <th>sensor_ambient_illuminance</th>\n",
       "      <th>sensor_ambient_pressure</th>\n",
       "      <th>signal_strength_lte_cqi</th>\n",
       "      <th>...</th>\n",
       "      <th>sensor_accelerometer_x</th>\n",
       "      <th>sensor_accelerometer_y</th>\n",
       "      <th>sensor_accelerometer_z</th>\n",
       "      <th>location_speed</th>\n",
       "      <th>speed_in_cell</th>\n",
       "      <th>time_in_cell</th>\n",
       "      <th>meta_indoor</th>\n",
       "      <th>meta_indoor_probability</th>\n",
       "      <th>meta_outdoor_probability</th>\n",
       "      <th>training_tag</th>\n",
       "    </tr>\n",
       "  </thead>\n",
       "  <tbody>\n",
       "    <tr>\n",
       "      <th>0</th>\n",
       "      <td>42.500</td>\n",
       "      <td>network</td>\n",
       "      <td>America/Sao_Paulo</td>\n",
       "      <td>-77.0</td>\n",
       "      <td>43.0</td>\n",
       "      <td>2462.0</td>\n",
       "      <td>HSPA</td>\n",
       "      <td>0.0</td>\n",
       "      <td>NaN</td>\n",
       "      <td>NaN</td>\n",
       "      <td>...</td>\n",
       "      <td>-2.749710</td>\n",
       "      <td>-1.196930</td>\n",
       "      <td>9.206192</td>\n",
       "      <td>0.000000</td>\n",
       "      <td>NaN</td>\n",
       "      <td>NaN</td>\n",
       "      <td>1.0</td>\n",
       "      <td>0.897859</td>\n",
       "      <td>0.102141</td>\n",
       "      <td>NaN</td>\n",
       "    </tr>\n",
       "    <tr>\n",
       "      <th>1</th>\n",
       "      <td>26.885</td>\n",
       "      <td>network</td>\n",
       "      <td>America/Sao_Paulo</td>\n",
       "      <td>NaN</td>\n",
       "      <td>NaN</td>\n",
       "      <td>NaN</td>\n",
       "      <td>Unknown</td>\n",
       "      <td>0.0</td>\n",
       "      <td>NaN</td>\n",
       "      <td>0.0</td>\n",
       "      <td>...</td>\n",
       "      <td>-9.602875</td>\n",
       "      <td>0.707230</td>\n",
       "      <td>-1.873291</td>\n",
       "      <td>0.000000</td>\n",
       "      <td>NaN</td>\n",
       "      <td>NaN</td>\n",
       "      <td>1.0</td>\n",
       "      <td>0.938019</td>\n",
       "      <td>0.061981</td>\n",
       "      <td>NaN</td>\n",
       "    </tr>\n",
       "    <tr>\n",
       "      <th>2</th>\n",
       "      <td>10.000</td>\n",
       "      <td>gps</td>\n",
       "      <td>America/Sao_Paulo</td>\n",
       "      <td>NaN</td>\n",
       "      <td>NaN</td>\n",
       "      <td>NaN</td>\n",
       "      <td>Unknown</td>\n",
       "      <td>10.0</td>\n",
       "      <td>NaN</td>\n",
       "      <td>NaN</td>\n",
       "      <td>...</td>\n",
       "      <td>-1.417000</td>\n",
       "      <td>1.647000</td>\n",
       "      <td>9.098000</td>\n",
       "      <td>0.073091</td>\n",
       "      <td>NaN</td>\n",
       "      <td>NaN</td>\n",
       "      <td>0.0</td>\n",
       "      <td>0.369782</td>\n",
       "      <td>0.630218</td>\n",
       "      <td>NaN</td>\n",
       "    </tr>\n",
       "    <tr>\n",
       "      <th>3</th>\n",
       "      <td>10.000</td>\n",
       "      <td>gps</td>\n",
       "      <td>America/Sao_Paulo</td>\n",
       "      <td>NaN</td>\n",
       "      <td>NaN</td>\n",
       "      <td>NaN</td>\n",
       "      <td>Unknown</td>\n",
       "      <td>2.0</td>\n",
       "      <td>NaN</td>\n",
       "      <td>NaN</td>\n",
       "      <td>...</td>\n",
       "      <td>-10.056000</td>\n",
       "      <td>-2.470000</td>\n",
       "      <td>1.781000</td>\n",
       "      <td>0.000000</td>\n",
       "      <td>NaN</td>\n",
       "      <td>NaN</td>\n",
       "      <td>0.0</td>\n",
       "      <td>0.099714</td>\n",
       "      <td>0.900286</td>\n",
       "      <td>NaN</td>\n",
       "    </tr>\n",
       "    <tr>\n",
       "      <th>4</th>\n",
       "      <td>92.865</td>\n",
       "      <td>network</td>\n",
       "      <td>America/Sao_Paulo</td>\n",
       "      <td>-63.0</td>\n",
       "      <td>11.0</td>\n",
       "      <td>2412.0</td>\n",
       "      <td>LTE</td>\n",
       "      <td>333.0</td>\n",
       "      <td>NaN</td>\n",
       "      <td>NaN</td>\n",
       "      <td>...</td>\n",
       "      <td>0.047884</td>\n",
       "      <td>0.416591</td>\n",
       "      <td>9.878476</td>\n",
       "      <td>0.000000</td>\n",
       "      <td>NaN</td>\n",
       "      <td>NaN</td>\n",
       "      <td>1.0</td>\n",
       "      <td>0.980363</td>\n",
       "      <td>0.019637</td>\n",
       "      <td>NaN</td>\n",
       "    </tr>\n",
       "  </tbody>\n",
       "</table>\n",
       "<p>5 rows × 26 columns</p>\n",
       "</div>"
      ],
      "text/plain": [
       "   location_accuracy location_provider  misc_time_zone_id  wifi_rssi  \\\n",
       "0             42.500           network  America/Sao_Paulo      -77.0   \n",
       "1             26.885           network  America/Sao_Paulo        NaN   \n",
       "2             10.000               gps  America/Sao_Paulo        NaN   \n",
       "3             10.000               gps  America/Sao_Paulo        NaN   \n",
       "4             92.865           network  America/Sao_Paulo      -63.0   \n",
       "\n",
       "   wifi_link_speed  wifi_frequency network_type  sensor_ambient_illuminance  \\\n",
       "0             43.0          2462.0         HSPA                         0.0   \n",
       "1              NaN             NaN      Unknown                         0.0   \n",
       "2              NaN             NaN      Unknown                        10.0   \n",
       "3              NaN             NaN      Unknown                         2.0   \n",
       "4             11.0          2412.0          LTE                       333.0   \n",
       "\n",
       "   sensor_ambient_pressure  signal_strength_lte_cqi  ...  \\\n",
       "0                      NaN                      NaN  ...   \n",
       "1                      NaN                      0.0  ...   \n",
       "2                      NaN                      NaN  ...   \n",
       "3                      NaN                      NaN  ...   \n",
       "4                      NaN                      NaN  ...   \n",
       "\n",
       "   sensor_accelerometer_x  sensor_accelerometer_y  sensor_accelerometer_z  \\\n",
       "0               -2.749710               -1.196930                9.206192   \n",
       "1               -9.602875                0.707230               -1.873291   \n",
       "2               -1.417000                1.647000                9.098000   \n",
       "3              -10.056000               -2.470000                1.781000   \n",
       "4                0.047884                0.416591                9.878476   \n",
       "\n",
       "   location_speed  speed_in_cell  time_in_cell  meta_indoor  \\\n",
       "0        0.000000            NaN           NaN          1.0   \n",
       "1        0.000000            NaN           NaN          1.0   \n",
       "2        0.073091            NaN           NaN          0.0   \n",
       "3        0.000000            NaN           NaN          0.0   \n",
       "4        0.000000            NaN           NaN          1.0   \n",
       "\n",
       "   meta_indoor_probability  meta_outdoor_probability  training_tag  \n",
       "0                 0.897859                  0.102141           NaN  \n",
       "1                 0.938019                  0.061981           NaN  \n",
       "2                 0.369782                  0.630218           NaN  \n",
       "3                 0.099714                  0.900286           NaN  \n",
       "4                 0.980363                  0.019637           NaN  \n",
       "\n",
       "[5 rows x 26 columns]"
      ]
     },
     "execution_count": 24,
     "metadata": {},
     "output_type": "execute_result"
    }
   ],
   "source": [
    "df.head()"
   ]
  },
  {
   "cell_type": "code",
   "execution_count": 25,
   "metadata": {},
   "outputs": [
    {
     "data": {
      "text/plain": [
       "location_accuracy             float64\n",
       "location_provider              object\n",
       "misc_time_zone_id              object\n",
       "wifi_rssi                     float64\n",
       "wifi_link_speed               float64\n",
       "wifi_frequency                float64\n",
       "network_type                   object\n",
       "sensor_ambient_illuminance    float64\n",
       "sensor_ambient_pressure       float64\n",
       "signal_strength_lte_cqi       float64\n",
       "sensor_geomagnetic_x          float64\n",
       "sensor_geomagnetic_y          float64\n",
       "sensor_geomagnetic_z          float64\n",
       "signal_strength_lte_rsrp      float64\n",
       "sound_level                   float64\n",
       "sensor_proximity              float64\n",
       "sensor_accelerometer_x        float64\n",
       "sensor_accelerometer_y        float64\n",
       "sensor_accelerometer_z        float64\n",
       "location_speed                float64\n",
       "speed_in_cell                 float64\n",
       "time_in_cell                  float64\n",
       "meta_indoor                   float64\n",
       "meta_indoor_probability       float64\n",
       "meta_outdoor_probability      float64\n",
       "training_tag                   object\n",
       "dtype: object"
      ]
     },
     "execution_count": 25,
     "metadata": {},
     "output_type": "execute_result"
    }
   ],
   "source": [
    "df.dtypes"
   ]
  },
  {
   "cell_type": "code",
   "execution_count": 14,
   "metadata": {},
   "outputs": [
    {
     "data": {
      "text/plain": [
       "location_accuracy                    0\n",
       "location_provider                    0\n",
       "misc_time_zone_id                    0\n",
       "wifi_rssi                      8226763\n",
       "wifi_link_speed                8345922\n",
       "wifi_frequency                 8552563\n",
       "network_type                    567018\n",
       "sensor_ambient_illuminance     5396557\n",
       "sensor_ambient_pressure       19540473\n",
       "signal_strength_lte_cqi       13533402\n",
       "sensor_geomagnetic_x           9847286\n",
       "sensor_geomagnetic_y           9847286\n",
       "sensor_geomagnetic_z           9847286\n",
       "signal_strength_lte_rsrp      16759048\n",
       "sound_level                   14455209\n",
       "sensor_proximity                161192\n",
       "sensor_accelerometer_x            1572\n",
       "sensor_accelerometer_y            4156\n",
       "sensor_accelerometer_z            2536\n",
       "location_speed                       0\n",
       "speed_in_cell                 15937189\n",
       "time_in_cell                  15937409\n",
       "meta_indoor                    1254253\n",
       "meta_indoor_probability        1249882\n",
       "meta_outdoor_probability       1249882\n",
       "training_tag                  17458363\n",
       "dtype: int64"
      ]
     },
     "execution_count": 14,
     "metadata": {},
     "output_type": "execute_result"
    }
   ],
   "source": [
    "df.isnull().sum(axis = 0)"
   ]
  },
  {
   "cell_type": "code",
   "execution_count": 4,
   "metadata": {},
   "outputs": [],
   "source": [
    "df.drop(['training_tag', 'signal_strength_lte_rsrp', 'time_in_cell', 'sensor_ambient_pressure', 'signal_strength_lte_cqi'],\n",
    "        axis=1, inplace=True)"
   ]
  },
  {
   "cell_type": "code",
   "execution_count": 5,
   "metadata": {},
   "outputs": [],
   "source": [
    "df.dropna(inplace=True)"
   ]
  },
  {
   "cell_type": "code",
   "execution_count": 6,
   "metadata": {},
   "outputs": [],
   "source": [
    "df = df[(df['meta_indoor_probability']>0.7)|(df['meta_outdoor_probability']>0.7)]"
   ]
  },
  {
   "cell_type": "code",
   "execution_count": 7,
   "metadata": {},
   "outputs": [
    {
     "data": {
      "text/plain": [
       "1.0    2451704\n",
       "0.0      14021\n",
       "Name: meta_indoor, dtype: int64"
      ]
     },
     "execution_count": 7,
     "metadata": {},
     "output_type": "execute_result"
    }
   ],
   "source": [
    "df['meta_indoor'].value_counts()"
   ]
  },
  {
   "cell_type": "code",
   "execution_count": 8,
   "metadata": {},
   "outputs": [
    {
     "data": {
      "text/plain": [
       "1.0    14021\n",
       "0.0    14021\n",
       "Name: meta_indoor, dtype: int64"
      ]
     },
     "execution_count": 8,
     "metadata": {},
     "output_type": "execute_result"
    }
   ],
   "source": [
    "g = df.groupby('meta_indoor')\n",
    "g.size().min()\n",
    "g = pd.DataFrame(g.apply(lambda x: x.sample(g.size().min()).reset_index(drop=True)))\n",
    "df = g.reset_index(drop=True)\n",
    "df['meta_indoor'].value_counts()"
   ]
  },
  {
   "cell_type": "code",
   "execution_count": 9,
   "metadata": {},
   "outputs": [],
   "source": [
    "df.drop(['meta_indoor_probability','meta_outdoor_probability', 'misc_time_zone_id'], axis=1, inplace=True)"
   ]
  },
  {
   "cell_type": "code",
   "execution_count": 10,
   "metadata": {},
   "outputs": [],
   "source": [
    "def categorical_toNumerical(y):\n",
    "    enconder_output = preprocessing.LabelEncoder()\n",
    "    a_str = y.astype('str')\n",
    "    enconder_output.fit(a_str)\n",
    "    categorical_to_numerical = enconder_output.transform(a_str)\n",
    "    return(categorical_to_numerical)"
   ]
  },
  {
   "cell_type": "code",
   "execution_count": 40,
   "metadata": {},
   "outputs": [
    {
     "data": {
      "text/plain": [
       "location_accuracy             float64\n",
       "location_provider              object\n",
       "misc_time_zone_id              object\n",
       "wifi_rssi                     float64\n",
       "wifi_link_speed               float64\n",
       "wifi_frequency                float64\n",
       "network_type                   object\n",
       "sensor_ambient_illuminance    float64\n",
       "sensor_geomagnetic_x          float64\n",
       "sensor_geomagnetic_y          float64\n",
       "sensor_geomagnetic_z          float64\n",
       "sound_level                   float64\n",
       "sensor_proximity              float64\n",
       "sensor_accelerometer_x        float64\n",
       "sensor_accelerometer_y        float64\n",
       "sensor_accelerometer_z        float64\n",
       "location_speed                float64\n",
       "speed_in_cell                 float64\n",
       "meta_indoor                   float64\n",
       "dtype: object"
      ]
     },
     "execution_count": 40,
     "metadata": {},
     "output_type": "execute_result"
    }
   ],
   "source": [
    "df.dtypes"
   ]
  },
  {
   "cell_type": "code",
   "execution_count": 16,
   "metadata": {},
   "outputs": [],
   "source": [
    "df['network_type'] = categorical_toNumerical(df['network_type'])\n",
    "df['location_provider'] = categorical_toNumerical(df['location_provider'])"
   ]
  },
  {
   "cell_type": "code",
   "execution_count": 48,
   "metadata": {},
   "outputs": [],
   "source": [
    "from sklearn import preprocessing\n",
    "\n"
   ]
  },
  {
   "cell_type": "code",
   "execution_count": 49,
   "metadata": {},
   "outputs": [
    {
     "data": {
      "text/html": [
       "<div>\n",
       "<style scoped>\n",
       "    .dataframe tbody tr th:only-of-type {\n",
       "        vertical-align: middle;\n",
       "    }\n",
       "\n",
       "    .dataframe tbody tr th {\n",
       "        vertical-align: top;\n",
       "    }\n",
       "\n",
       "    .dataframe thead th {\n",
       "        text-align: right;\n",
       "    }\n",
       "</style>\n",
       "<table border=\"1\" class=\"dataframe\">\n",
       "  <thead>\n",
       "    <tr style=\"text-align: right;\">\n",
       "      <th></th>\n",
       "      <th>0</th>\n",
       "      <th>1</th>\n",
       "      <th>2</th>\n",
       "      <th>3</th>\n",
       "      <th>4</th>\n",
       "      <th>5</th>\n",
       "      <th>6</th>\n",
       "      <th>7</th>\n",
       "      <th>8</th>\n",
       "      <th>9</th>\n",
       "      <th>10</th>\n",
       "      <th>11</th>\n",
       "      <th>12</th>\n",
       "      <th>13</th>\n",
       "      <th>14</th>\n",
       "      <th>15</th>\n",
       "      <th>16</th>\n",
       "      <th>17</th>\n",
       "    </tr>\n",
       "  </thead>\n",
       "  <tbody>\n",
       "    <tr>\n",
       "      <th>0</th>\n",
       "      <td>0.000539</td>\n",
       "      <td>0.0</td>\n",
       "      <td>0.217391</td>\n",
       "      <td>0.073988</td>\n",
       "      <td>0.01465</td>\n",
       "      <td>0.375</td>\n",
       "      <td>0.000180</td>\n",
       "      <td>0.361535</td>\n",
       "      <td>0.661772</td>\n",
       "      <td>0.240250</td>\n",
       "      <td>1.000000</td>\n",
       "      <td>0.01</td>\n",
       "      <td>0.574595</td>\n",
       "      <td>0.786125</td>\n",
       "      <td>0.371160</td>\n",
       "      <td>0.000000</td>\n",
       "      <td>0.0</td>\n",
       "      <td>0.0</td>\n",
       "    </tr>\n",
       "    <tr>\n",
       "      <th>1</th>\n",
       "      <td>0.005363</td>\n",
       "      <td>0.0</td>\n",
       "      <td>0.423913</td>\n",
       "      <td>0.109827</td>\n",
       "      <td>0.00000</td>\n",
       "      <td>0.750</td>\n",
       "      <td>0.000081</td>\n",
       "      <td>0.387088</td>\n",
       "      <td>0.587135</td>\n",
       "      <td>0.245574</td>\n",
       "      <td>0.920324</td>\n",
       "      <td>0.05</td>\n",
       "      <td>0.769937</td>\n",
       "      <td>0.636731</td>\n",
       "      <td>0.377217</td>\n",
       "      <td>0.000000</td>\n",
       "      <td>0.0</td>\n",
       "      <td>0.0</td>\n",
       "    </tr>\n",
       "    <tr>\n",
       "      <th>2</th>\n",
       "      <td>0.000539</td>\n",
       "      <td>0.0</td>\n",
       "      <td>0.217391</td>\n",
       "      <td>0.073988</td>\n",
       "      <td>0.01465</td>\n",
       "      <td>0.375</td>\n",
       "      <td>0.000180</td>\n",
       "      <td>0.361535</td>\n",
       "      <td>0.661772</td>\n",
       "      <td>0.240250</td>\n",
       "      <td>1.000000</td>\n",
       "      <td>0.01</td>\n",
       "      <td>0.574595</td>\n",
       "      <td>0.786125</td>\n",
       "      <td>0.371160</td>\n",
       "      <td>0.000000</td>\n",
       "      <td>0.0</td>\n",
       "      <td>0.0</td>\n",
       "    </tr>\n",
       "    <tr>\n",
       "      <th>3</th>\n",
       "      <td>0.000535</td>\n",
       "      <td>0.0</td>\n",
       "      <td>0.217391</td>\n",
       "      <td>0.023121</td>\n",
       "      <td>0.01465</td>\n",
       "      <td>0.750</td>\n",
       "      <td>0.000000</td>\n",
       "      <td>0.359850</td>\n",
       "      <td>0.647405</td>\n",
       "      <td>0.245320</td>\n",
       "      <td>0.527264</td>\n",
       "      <td>0.08</td>\n",
       "      <td>0.544464</td>\n",
       "      <td>0.805612</td>\n",
       "      <td>0.213360</td>\n",
       "      <td>0.014438</td>\n",
       "      <td>0.0</td>\n",
       "      <td>0.0</td>\n",
       "    </tr>\n",
       "    <tr>\n",
       "      <th>4</th>\n",
       "      <td>0.000599</td>\n",
       "      <td>0.0</td>\n",
       "      <td>0.630435</td>\n",
       "      <td>0.061272</td>\n",
       "      <td>0.00000</td>\n",
       "      <td>0.625</td>\n",
       "      <td>0.000000</td>\n",
       "      <td>0.384493</td>\n",
       "      <td>0.518925</td>\n",
       "      <td>0.229842</td>\n",
       "      <td>0.733213</td>\n",
       "      <td>0.08</td>\n",
       "      <td>0.540234</td>\n",
       "      <td>0.790589</td>\n",
       "      <td>0.376424</td>\n",
       "      <td>0.007976</td>\n",
       "      <td>0.0</td>\n",
       "      <td>0.0</td>\n",
       "    </tr>\n",
       "  </tbody>\n",
       "</table>\n",
       "</div>"
      ],
      "text/plain": [
       "         0    1         2         3        4      5         6         7   \\\n",
       "0  0.000539  0.0  0.217391  0.073988  0.01465  0.375  0.000180  0.361535   \n",
       "1  0.005363  0.0  0.423913  0.109827  0.00000  0.750  0.000081  0.387088   \n",
       "2  0.000539  0.0  0.217391  0.073988  0.01465  0.375  0.000180  0.361535   \n",
       "3  0.000535  0.0  0.217391  0.023121  0.01465  0.750  0.000000  0.359850   \n",
       "4  0.000599  0.0  0.630435  0.061272  0.00000  0.625  0.000000  0.384493   \n",
       "\n",
       "         8         9         10    11        12        13        14        15  \\\n",
       "0  0.661772  0.240250  1.000000  0.01  0.574595  0.786125  0.371160  0.000000   \n",
       "1  0.587135  0.245574  0.920324  0.05  0.769937  0.636731  0.377217  0.000000   \n",
       "2  0.661772  0.240250  1.000000  0.01  0.574595  0.786125  0.371160  0.000000   \n",
       "3  0.647405  0.245320  0.527264  0.08  0.544464  0.805612  0.213360  0.014438   \n",
       "4  0.518925  0.229842  0.733213  0.08  0.540234  0.790589  0.376424  0.007976   \n",
       "\n",
       "    16   17  \n",
       "0  0.0  0.0  \n",
       "1  0.0  0.0  \n",
       "2  0.0  0.0  \n",
       "3  0.0  0.0  \n",
       "4  0.0  0.0  "
      ]
     },
     "execution_count": 49,
     "metadata": {},
     "output_type": "execute_result"
    }
   ],
   "source": [
    "df.head()"
   ]
  },
  {
   "cell_type": "code",
   "execution_count": 51,
   "metadata": {},
   "outputs": [
    {
     "ename": "KeyError",
     "evalue": "\"['meta_indoor'] not found in axis\"",
     "output_type": "error",
     "traceback": [
      "\u001b[1;31m---------------------------------------------------------------------------\u001b[0m",
      "\u001b[1;31mKeyError\u001b[0m                                  Traceback (most recent call last)",
      "\u001b[1;32m<ipython-input-51-a2024eb037b3>\u001b[0m in \u001b[0;36m<module>\u001b[1;34m\u001b[0m\n\u001b[1;32m----> 1\u001b[1;33m \u001b[0mX\u001b[0m \u001b[1;33m=\u001b[0m \u001b[0mdf\u001b[0m\u001b[1;33m.\u001b[0m\u001b[0mdrop\u001b[0m\u001b[1;33m(\u001b[0m\u001b[1;34m'meta_indoor'\u001b[0m\u001b[1;33m,\u001b[0m \u001b[0maxis\u001b[0m\u001b[1;33m=\u001b[0m\u001b[1;36m1\u001b[0m\u001b[1;33m)\u001b[0m\u001b[1;33m\u001b[0m\u001b[1;33m\u001b[0m\u001b[0m\n\u001b[0m\u001b[0;32m      2\u001b[0m \u001b[0my\u001b[0m \u001b[1;33m=\u001b[0m \u001b[0mdf\u001b[0m\u001b[1;33m[\u001b[0m\u001b[1;34m'meta_indoor'\u001b[0m\u001b[1;33m]\u001b[0m\u001b[1;33m\u001b[0m\u001b[1;33m\u001b[0m\u001b[0m\n",
      "\u001b[1;32mc:\\users\\fitec\\appdata\\local\\programs\\python\\python37\\lib\\site-packages\\pandas\\core\\frame.py\u001b[0m in \u001b[0;36mdrop\u001b[1;34m(self, labels, axis, index, columns, level, inplace, errors)\u001b[0m\n\u001b[0;32m   3938\u001b[0m                                            \u001b[0mindex\u001b[0m\u001b[1;33m=\u001b[0m\u001b[0mindex\u001b[0m\u001b[1;33m,\u001b[0m \u001b[0mcolumns\u001b[0m\u001b[1;33m=\u001b[0m\u001b[0mcolumns\u001b[0m\u001b[1;33m,\u001b[0m\u001b[1;33m\u001b[0m\u001b[1;33m\u001b[0m\u001b[0m\n\u001b[0;32m   3939\u001b[0m                                            \u001b[0mlevel\u001b[0m\u001b[1;33m=\u001b[0m\u001b[0mlevel\u001b[0m\u001b[1;33m,\u001b[0m \u001b[0minplace\u001b[0m\u001b[1;33m=\u001b[0m\u001b[0minplace\u001b[0m\u001b[1;33m,\u001b[0m\u001b[1;33m\u001b[0m\u001b[1;33m\u001b[0m\u001b[0m\n\u001b[1;32m-> 3940\u001b[1;33m                                            errors=errors)\n\u001b[0m\u001b[0;32m   3941\u001b[0m \u001b[1;33m\u001b[0m\u001b[0m\n\u001b[0;32m   3942\u001b[0m     @rewrite_axis_style_signature('mapper', [('copy', True),\n",
      "\u001b[1;32mc:\\users\\fitec\\appdata\\local\\programs\\python\\python37\\lib\\site-packages\\pandas\\core\\generic.py\u001b[0m in \u001b[0;36mdrop\u001b[1;34m(self, labels, axis, index, columns, level, inplace, errors)\u001b[0m\n\u001b[0;32m   3778\u001b[0m         \u001b[1;32mfor\u001b[0m \u001b[0maxis\u001b[0m\u001b[1;33m,\u001b[0m \u001b[0mlabels\u001b[0m \u001b[1;32min\u001b[0m \u001b[0maxes\u001b[0m\u001b[1;33m.\u001b[0m\u001b[0mitems\u001b[0m\u001b[1;33m(\u001b[0m\u001b[1;33m)\u001b[0m\u001b[1;33m:\u001b[0m\u001b[1;33m\u001b[0m\u001b[1;33m\u001b[0m\u001b[0m\n\u001b[0;32m   3779\u001b[0m             \u001b[1;32mif\u001b[0m \u001b[0mlabels\u001b[0m \u001b[1;32mis\u001b[0m \u001b[1;32mnot\u001b[0m \u001b[1;32mNone\u001b[0m\u001b[1;33m:\u001b[0m\u001b[1;33m\u001b[0m\u001b[1;33m\u001b[0m\u001b[0m\n\u001b[1;32m-> 3780\u001b[1;33m                 \u001b[0mobj\u001b[0m \u001b[1;33m=\u001b[0m \u001b[0mobj\u001b[0m\u001b[1;33m.\u001b[0m\u001b[0m_drop_axis\u001b[0m\u001b[1;33m(\u001b[0m\u001b[0mlabels\u001b[0m\u001b[1;33m,\u001b[0m \u001b[0maxis\u001b[0m\u001b[1;33m,\u001b[0m \u001b[0mlevel\u001b[0m\u001b[1;33m=\u001b[0m\u001b[0mlevel\u001b[0m\u001b[1;33m,\u001b[0m \u001b[0merrors\u001b[0m\u001b[1;33m=\u001b[0m\u001b[0merrors\u001b[0m\u001b[1;33m)\u001b[0m\u001b[1;33m\u001b[0m\u001b[1;33m\u001b[0m\u001b[0m\n\u001b[0m\u001b[0;32m   3781\u001b[0m \u001b[1;33m\u001b[0m\u001b[0m\n\u001b[0;32m   3782\u001b[0m         \u001b[1;32mif\u001b[0m \u001b[0minplace\u001b[0m\u001b[1;33m:\u001b[0m\u001b[1;33m\u001b[0m\u001b[1;33m\u001b[0m\u001b[0m\n",
      "\u001b[1;32mc:\\users\\fitec\\appdata\\local\\programs\\python\\python37\\lib\\site-packages\\pandas\\core\\generic.py\u001b[0m in \u001b[0;36m_drop_axis\u001b[1;34m(self, labels, axis, level, errors)\u001b[0m\n\u001b[0;32m   3810\u001b[0m                 \u001b[0mnew_axis\u001b[0m \u001b[1;33m=\u001b[0m \u001b[0maxis\u001b[0m\u001b[1;33m.\u001b[0m\u001b[0mdrop\u001b[0m\u001b[1;33m(\u001b[0m\u001b[0mlabels\u001b[0m\u001b[1;33m,\u001b[0m \u001b[0mlevel\u001b[0m\u001b[1;33m=\u001b[0m\u001b[0mlevel\u001b[0m\u001b[1;33m,\u001b[0m \u001b[0merrors\u001b[0m\u001b[1;33m=\u001b[0m\u001b[0merrors\u001b[0m\u001b[1;33m)\u001b[0m\u001b[1;33m\u001b[0m\u001b[1;33m\u001b[0m\u001b[0m\n\u001b[0;32m   3811\u001b[0m             \u001b[1;32melse\u001b[0m\u001b[1;33m:\u001b[0m\u001b[1;33m\u001b[0m\u001b[1;33m\u001b[0m\u001b[0m\n\u001b[1;32m-> 3812\u001b[1;33m                 \u001b[0mnew_axis\u001b[0m \u001b[1;33m=\u001b[0m \u001b[0maxis\u001b[0m\u001b[1;33m.\u001b[0m\u001b[0mdrop\u001b[0m\u001b[1;33m(\u001b[0m\u001b[0mlabels\u001b[0m\u001b[1;33m,\u001b[0m \u001b[0merrors\u001b[0m\u001b[1;33m=\u001b[0m\u001b[0merrors\u001b[0m\u001b[1;33m)\u001b[0m\u001b[1;33m\u001b[0m\u001b[1;33m\u001b[0m\u001b[0m\n\u001b[0m\u001b[0;32m   3813\u001b[0m             \u001b[0mresult\u001b[0m \u001b[1;33m=\u001b[0m \u001b[0mself\u001b[0m\u001b[1;33m.\u001b[0m\u001b[0mreindex\u001b[0m\u001b[1;33m(\u001b[0m\u001b[1;33m**\u001b[0m\u001b[1;33m{\u001b[0m\u001b[0maxis_name\u001b[0m\u001b[1;33m:\u001b[0m \u001b[0mnew_axis\u001b[0m\u001b[1;33m}\u001b[0m\u001b[1;33m)\u001b[0m\u001b[1;33m\u001b[0m\u001b[1;33m\u001b[0m\u001b[0m\n\u001b[0;32m   3814\u001b[0m \u001b[1;33m\u001b[0m\u001b[0m\n",
      "\u001b[1;32mc:\\users\\fitec\\appdata\\local\\programs\\python\\python37\\lib\\site-packages\\pandas\\core\\indexes\\base.py\u001b[0m in \u001b[0;36mdrop\u001b[1;34m(self, labels, errors)\u001b[0m\n\u001b[0;32m   4962\u001b[0m             \u001b[1;32mif\u001b[0m \u001b[0merrors\u001b[0m \u001b[1;33m!=\u001b[0m \u001b[1;34m'ignore'\u001b[0m\u001b[1;33m:\u001b[0m\u001b[1;33m\u001b[0m\u001b[1;33m\u001b[0m\u001b[0m\n\u001b[0;32m   4963\u001b[0m                 raise KeyError(\n\u001b[1;32m-> 4964\u001b[1;33m                     '{} not found in axis'.format(labels[mask]))\n\u001b[0m\u001b[0;32m   4965\u001b[0m             \u001b[0mindexer\u001b[0m \u001b[1;33m=\u001b[0m \u001b[0mindexer\u001b[0m\u001b[1;33m[\u001b[0m\u001b[1;33m~\u001b[0m\u001b[0mmask\u001b[0m\u001b[1;33m]\u001b[0m\u001b[1;33m\u001b[0m\u001b[1;33m\u001b[0m\u001b[0m\n\u001b[0;32m   4966\u001b[0m         \u001b[1;32mreturn\u001b[0m \u001b[0mself\u001b[0m\u001b[1;33m.\u001b[0m\u001b[0mdelete\u001b[0m\u001b[1;33m(\u001b[0m\u001b[0mindexer\u001b[0m\u001b[1;33m)\u001b[0m\u001b[1;33m\u001b[0m\u001b[1;33m\u001b[0m\u001b[0m\n",
      "\u001b[1;31mKeyError\u001b[0m: \"['meta_indoor'] not found in axis\""
     ]
    }
   ],
   "source": [
    "X = df.drop('meta_indoor', axis=1)\n",
    "x = df.values #returns a numpy array\n",
    "min_max_scaler = preprocessing.MinMaxScaler()\n",
    "x_scaled = min_max_scaler.fit_transform(x)\n",
    "df = pd.DataFrame(x_scaled)\n",
    "y = df['meta_indoor']\n",
    "X_train, X_test, y_train, y_test = train_test_split(X, y, test_size=0.2, random_state=42)"
   ]
  },
  {
   "cell_type": "code",
   "execution_count": 52,
   "metadata": {},
   "outputs": [],
   "source": [
    "X_train, X_test, y_train, y_test = train_test_split(X, y, test_size=0.2, random_state=42)"
   ]
  },
  {
   "cell_type": "code",
   "execution_count": 18,
   "metadata": {},
   "outputs": [
    {
     "data": {
      "text/html": [
       "<div>\n",
       "<style scoped>\n",
       "    .dataframe tbody tr th:only-of-type {\n",
       "        vertical-align: middle;\n",
       "    }\n",
       "\n",
       "    .dataframe tbody tr th {\n",
       "        vertical-align: top;\n",
       "    }\n",
       "\n",
       "    .dataframe thead th {\n",
       "        text-align: right;\n",
       "    }\n",
       "</style>\n",
       "<table border=\"1\" class=\"dataframe\">\n",
       "  <thead>\n",
       "    <tr style=\"text-align: right;\">\n",
       "      <th></th>\n",
       "      <th>location_accuracy</th>\n",
       "      <th>location_provider</th>\n",
       "      <th>wifi_rssi</th>\n",
       "      <th>wifi_link_speed</th>\n",
       "      <th>wifi_frequency</th>\n",
       "      <th>network_type</th>\n",
       "      <th>sensor_ambient_illuminance</th>\n",
       "      <th>sensor_geomagnetic_x</th>\n",
       "      <th>sensor_geomagnetic_y</th>\n",
       "      <th>sensor_geomagnetic_z</th>\n",
       "      <th>sound_level</th>\n",
       "      <th>sensor_proximity</th>\n",
       "      <th>sensor_accelerometer_x</th>\n",
       "      <th>sensor_accelerometer_y</th>\n",
       "      <th>sensor_accelerometer_z</th>\n",
       "      <th>location_speed</th>\n",
       "      <th>speed_in_cell</th>\n",
       "    </tr>\n",
       "  </thead>\n",
       "  <tbody>\n",
       "    <tr>\n",
       "      <th>12281</th>\n",
       "      <td>11.000</td>\n",
       "      <td>0</td>\n",
       "      <td>-73.0</td>\n",
       "      <td>43.0</td>\n",
       "      <td>2417.0</td>\n",
       "      <td>6</td>\n",
       "      <td>1.0</td>\n",
       "      <td>-57.8125</td>\n",
       "      <td>15.1875</td>\n",
       "      <td>44.000</td>\n",
       "      <td>33.06425</td>\n",
       "      <td>1.0</td>\n",
       "      <td>-0.555455</td>\n",
       "      <td>0.450110</td>\n",
       "      <td>-10.381260</td>\n",
       "      <td>0.0</td>\n",
       "      <td>0.0</td>\n",
       "    </tr>\n",
       "    <tr>\n",
       "      <th>3335</th>\n",
       "      <td>5.400</td>\n",
       "      <td>0</td>\n",
       "      <td>-72.0</td>\n",
       "      <td>65.0</td>\n",
       "      <td>2462.0</td>\n",
       "      <td>3</td>\n",
       "      <td>23.0</td>\n",
       "      <td>-16.2500</td>\n",
       "      <td>29.7500</td>\n",
       "      <td>-2.750</td>\n",
       "      <td>90.30873</td>\n",
       "      <td>1.0</td>\n",
       "      <td>0.708000</td>\n",
       "      <td>8.236000</td>\n",
       "      <td>4.099000</td>\n",
       "      <td>0.0</td>\n",
       "      <td>0.0</td>\n",
       "    </tr>\n",
       "    <tr>\n",
       "      <th>4456</th>\n",
       "      <td>5.400</td>\n",
       "      <td>0</td>\n",
       "      <td>-72.0</td>\n",
       "      <td>65.0</td>\n",
       "      <td>2462.0</td>\n",
       "      <td>3</td>\n",
       "      <td>23.0</td>\n",
       "      <td>-16.2500</td>\n",
       "      <td>29.7500</td>\n",
       "      <td>-2.750</td>\n",
       "      <td>90.30873</td>\n",
       "      <td>1.0</td>\n",
       "      <td>0.708000</td>\n",
       "      <td>8.236000</td>\n",
       "      <td>4.099000</td>\n",
       "      <td>0.0</td>\n",
       "      <td>0.0</td>\n",
       "    </tr>\n",
       "    <tr>\n",
       "      <th>4609</th>\n",
       "      <td>12.000</td>\n",
       "      <td>0</td>\n",
       "      <td>-40.0</td>\n",
       "      <td>72.0</td>\n",
       "      <td>2462.0</td>\n",
       "      <td>3</td>\n",
       "      <td>26.0</td>\n",
       "      <td>-6.5625</td>\n",
       "      <td>5.8125</td>\n",
       "      <td>6.125</td>\n",
       "      <td>84.83790</td>\n",
       "      <td>100.0</td>\n",
       "      <td>0.440533</td>\n",
       "      <td>8.571242</td>\n",
       "      <td>4.663905</td>\n",
       "      <td>0.0</td>\n",
       "      <td>0.0</td>\n",
       "    </tr>\n",
       "    <tr>\n",
       "      <th>21411</th>\n",
       "      <td>21.346</td>\n",
       "      <td>1</td>\n",
       "      <td>-71.0</td>\n",
       "      <td>65.0</td>\n",
       "      <td>2412.0</td>\n",
       "      <td>3</td>\n",
       "      <td>34.0</td>\n",
       "      <td>-16.2500</td>\n",
       "      <td>29.5000</td>\n",
       "      <td>-2.750</td>\n",
       "      <td>70.98988</td>\n",
       "      <td>1.0</td>\n",
       "      <td>-0.019000</td>\n",
       "      <td>-0.249000</td>\n",
       "      <td>9.634000</td>\n",
       "      <td>0.0</td>\n",
       "      <td>0.0</td>\n",
       "    </tr>\n",
       "  </tbody>\n",
       "</table>\n",
       "</div>"
      ],
      "text/plain": [
       "       location_accuracy  location_provider  wifi_rssi  wifi_link_speed  \\\n",
       "12281             11.000                  0      -73.0             43.0   \n",
       "3335               5.400                  0      -72.0             65.0   \n",
       "4456               5.400                  0      -72.0             65.0   \n",
       "4609              12.000                  0      -40.0             72.0   \n",
       "21411             21.346                  1      -71.0             65.0   \n",
       "\n",
       "       wifi_frequency  network_type  sensor_ambient_illuminance  \\\n",
       "12281          2417.0             6                         1.0   \n",
       "3335           2462.0             3                        23.0   \n",
       "4456           2462.0             3                        23.0   \n",
       "4609           2462.0             3                        26.0   \n",
       "21411          2412.0             3                        34.0   \n",
       "\n",
       "       sensor_geomagnetic_x  sensor_geomagnetic_y  sensor_geomagnetic_z  \\\n",
       "12281              -57.8125               15.1875                44.000   \n",
       "3335               -16.2500               29.7500                -2.750   \n",
       "4456               -16.2500               29.7500                -2.750   \n",
       "4609                -6.5625                5.8125                 6.125   \n",
       "21411              -16.2500               29.5000                -2.750   \n",
       "\n",
       "       sound_level  sensor_proximity  sensor_accelerometer_x  \\\n",
       "12281     33.06425               1.0               -0.555455   \n",
       "3335      90.30873               1.0                0.708000   \n",
       "4456      90.30873               1.0                0.708000   \n",
       "4609      84.83790             100.0                0.440533   \n",
       "21411     70.98988               1.0               -0.019000   \n",
       "\n",
       "       sensor_accelerometer_y  sensor_accelerometer_z  location_speed  \\\n",
       "12281                0.450110              -10.381260             0.0   \n",
       "3335                 8.236000                4.099000             0.0   \n",
       "4456                 8.236000                4.099000             0.0   \n",
       "4609                 8.571242                4.663905             0.0   \n",
       "21411               -0.249000                9.634000             0.0   \n",
       "\n",
       "       speed_in_cell  \n",
       "12281            0.0  \n",
       "3335             0.0  \n",
       "4456             0.0  \n",
       "4609             0.0  \n",
       "21411            0.0  "
      ]
     },
     "execution_count": 18,
     "metadata": {},
     "output_type": "execute_result"
    }
   ],
   "source": [
    "X_train.head()"
   ]
  },
  {
   "cell_type": "code",
   "execution_count": null,
   "metadata": {},
   "outputs": [],
   "source": []
  },
  {
   "cell_type": "code",
   "execution_count": 131,
   "metadata": {},
   "outputs": [],
   "source": []
  },
  {
   "cell_type": "code",
   "execution_count": 19,
   "metadata": {},
   "outputs": [
    {
     "name": "stderr",
     "output_type": "stream",
     "text": [
      "c:\\users\\fitec\\appdata\\local\\programs\\python\\python37\\lib\\site-packages\\yellowbrick\\features\\rankd.py:262: FutureWarning: Method .as_matrix will be removed in a future version. Use .values instead.\n",
      "  X = X.as_matrix()\n",
      "c:\\users\\fitec\\appdata\\local\\programs\\python\\python37\\lib\\site-packages\\scipy\\stats\\morestats.py:1653: UserWarning: p-value may not be accurate for N > 5000.\n",
      "  warnings.warn(\"p-value may not be accurate for N > 5000.\")\n"
     ]
    },
    {
     "data": {
      "image/png": "[encoded data removed]",
      "text/plain": [
       "<Figure size 576x396 with 1 Axes>"
      ]
     },
     "metadata": {},
     "output_type": "display_data"
    }
   ],
   "source": [
    "from yellowbrick.features import Rank1D\n",
    "\n",
    "# # Instantiate the 1D visualizer with the Sharpiro ranking algorithm\n",
    "visualizer = Rank1D(features=X_train.columns, algorithm='shapiro')\n",
    "\n",
    "visualizer.fit(X_train, y_train)                # Fit the data to the visualizer\n",
    "visualizer.transform(X_train)             # Transform the data\n",
    "visualizer.poof()   "
   ]
  },
  {
   "cell_type": "code",
   "execution_count": 37,
   "metadata": {},
   "outputs": [],
   "source": [
    "def clusterize(X, n):\n",
    "    from sklearn import cluster\n",
    "    agglo = cluster.FeatureAgglomeration(n_clusters = n)\n",
    "    agglo.fit(X) \n",
    "    X_reduced = agglo.transform(X)\n",
    "    return(X_reduced)"
   ]
  },
  {
   "cell_type": "code",
   "execution_count": 45,
   "metadata": {},
   "outputs": [
    {
     "name": "stdout",
     "output_type": "stream",
     "text": [
      "[0. 1.]\n"
     ]
    },
    {
     "data": {
      "text/plain": [
       "5609"
      ]
     },
     "execution_count": 45,
     "metadata": {},
     "output_type": "execute_result"
    }
   ],
   "source": [
    "from sklearn.cluster import KMeans\n",
    "from sklearn.metrics import accuracy_score\n",
    "kmeans = KMeans(n_clusters=2, random_state=1).fit(X_train)\n",
    "print (np.unique(y_test))\n",
    "\n",
    "predicao = kmeans.predict(X_test)\n",
    "accuracy_score(predicao, y_test)\n",
    "# kmeans.cluster_centers_\n",
    "len(X_test)"
   ]
  },
  {
   "cell_type": "code",
   "execution_count": 44,
   "metadata": {},
   "outputs": [
    {
     "data": {
      "image/png": "[encoded data removed]",
      "text/plain": [
       "<Figure size 576x396 with 1 Axes>"
      ]
     },
     "metadata": {},
     "output_type": "display_data"
    }
   ],
   "source": [
    "plt.plot(predicao, 'o')\n",
    "plt.show()"
   ]
  }
 ],
 "metadata": {
  "kernelspec": {
   "display_name": "Python 3",
   "language": "python",
   "name": "python3"
  }
 },
 "nbformat": 4,
 "nbformat_minor": 2
}
