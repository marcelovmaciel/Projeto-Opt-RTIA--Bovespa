{
 "cells": [
  {
   "cell_type": "code",
   "execution_count": 182,
   "metadata": {},
   "outputs": [],
   "source": [
    "import random\n",
    "import numpy as np\n",
    "import pandas as pd"
   ]
  },
  {
   "cell_type": "code",
   "execution_count": 179,
   "metadata": {},
   "outputs": [],
   "source": [
    "#criar população \n",
    "def inicializacao_populacao():\n",
    "    pop =  [[]]*50\n",
    "    pop = [list(zip(np.array(random.sample(range(26), 12)), np.random.dirichlet(np.ones(12),size=1)[0])) for i in range(0, 50)]\n",
    "    pop = np.array(list(map(list, pop)))\n",
    "    return pop"
   ]
  },
  {
   "cell_type": "code",
   "execution_count": 190,
   "metadata": {},
   "outputs": [
    {
     "data": {
      "text/plain": [
       "[(6.0, 0.054668246886575844),\n",
       " (0.0, 0.15968635824761093),\n",
       " (22.0, 0.07552009083694092),\n",
       " (4.0, 0.1668587595191365),\n",
       " (18.0, 0.1896107342808507),\n",
       " (1.0, 0.016191305147275067),\n",
       " (5.0, 0.042720541703269034),\n",
       " (2.0, 0.046608009977709954),\n",
       " (16.0, 0.071496191070797),\n",
       " (11.0, 0.0995004494973404),\n",
       " (3.0, 0.028336227412569862),\n",
       " (7.0, 0.04880308541992375)]"
      ]
     },
     "execution_count": 190,
     "metadata": {},
     "output_type": "execute_result"
    }
   ],
   "source": [
    "#cruzamento\n",
    "def cruzamento(pai_1, pai_2):\n",
    "    child = list(zip(pai_1[:,0], pai_2[:,1]))\n",
    "    return child\n",
    "cruzamento(pop[0], pop[1])\n"
   ]
  },
  {
   "cell_type": "code",
   "execution_count": 193,
   "metadata": {},
   "outputs": [],
   "source": [
    "def function_fitness(pop): \n",
    "    return [np.abs(np.sum(faturamento_empresas_top[w[:,0].astype('int')]*w[:,1]) - ibovespa) for w in pop]"
   ]
  },
  {
   "cell_type": "code",
   "execution_count": 210,
   "metadata": {
    "scrolled": true
   },
   "outputs": [
    {
     "data": {
      "text/plain": [
       "0.004771009949350452"
      ]
     },
     "execution_count": 210,
     "metadata": {},
     "output_type": "execute_result"
    }
   ],
   "source": [
    "faturamento_empresas_top = np.random.randn(26)\n",
    "ibovespa = 0.2\n",
    "#inicializa a população\n",
    "pop = inicializacao_populacao()\n",
    "for j in range(0, 100):\n",
    "    #calcula o fitness da população\n",
    "    fitness = function_fitness(pop)\n",
    "    pop_fitness = np.array(list(zip(pop,fitness)))\n",
    "    #seleciona os pais\n",
    "    pop_fitness_sort = pop_fitness[pop_fitness[:,1].argsort()]\n",
    "    parent_1 = pop_fitness_sort[0:25][:,0]\n",
    "    parent_2 = pop_fitness_sort[25::][:,0]\n",
    "    #cruzamento\n",
    "    child_1 = [cruzamento(parent_1[i], parent_2[i]) for i in range(0, len(pais_1))]\n",
    "    child_1 = np.array(list(map(list, child_1)))\n",
    "    child_2 = [cruzamento(parent_2[i], parent_1[i]) for i in range(0, len(pais_1))]\n",
    "    child_2 = np.array(list(map(list, child_2)))\n",
    "    #calcula o fitness dos filhos para escolher quem vai passar pra próxima geração\n",
    "    fitness_child_1 = function_fitness(child_1)\n",
    "    fitness_child_2 = function_fitness(child_2)\n",
    "    fitness_child_1 = np.array(list(zip(child_1,fitness_child_1)))\n",
    "    fitness_child_2 = np.array(list(zip(child_2,fitness_child_2)))\n",
    "    #seleciona individuos da proxima geração\n",
    "    pop_all = np.concatenate((fitness_child_1, fitness_child_2, pop_fitness), axis=0)\n",
    "    pop_all_sort = pop_all[pop_all[:,1].argsort()]\n",
    "    best_individual = pop_all_sort[0]\n",
    "    pop = pop_all_sort[0:50][:,0]\n",
    "best_individual[1]"
   ]
  }
 ],
 "metadata": {
  "kernelspec": {
   "display_name": "Python 3",
   "language": "python",
   "name": "python3"
  },
  "language_info": {
   "codemirror_mode": {
    "name": "ipython",
    "version": 3
   },
   "file_extension": ".py",
   "mimetype": "text/x-python",
   "name": "python",
   "nbconvert_exporter": "python",
   "pygments_lexer": "ipython3",
   "version": "3.7.1"
  }
 },
 "nbformat": 4,
 "nbformat_minor": 2
}
