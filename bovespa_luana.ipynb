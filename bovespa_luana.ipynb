{
 "cells": [
  {
   "cell_type": "code",
   "execution_count": 33,
   "metadata": {},
   "outputs": [],
   "source": [
    "import random\n",
    "import numpy as np\n",
    "from deap import base\n",
    "from deap import creator\n",
    "from deap import tools\n",
    "import random"
   ]
  },
  {
   "cell_type": "code",
   "execution_count": 91,
   "metadata": {},
   "outputs": [
    {
     "data": {
      "text/plain": [
       "[(17.0, 0.12698035874910737),\n",
       " (7.0, 0.048598120330202714),\n",
       " (19.0, 0.060593796154093646),\n",
       " (21.0, 0.02757180670837249),\n",
       " (9.0, 0.031009914941509224),\n",
       " (18.0, 0.00913660135260269),\n",
       " (20.0, 0.001481105806025176),\n",
       " (3.0, 0.07619279697639654),\n",
       " (23.0, 0.04407790871681502),\n",
       " (1.0, 0.06889662002102848),\n",
       " (24.0, 0.20156357630883956),\n",
       " (6.0, 0.303897393935007)]"
      ]
     },
     "execution_count": 91,
     "metadata": {},
     "output_type": "execute_result"
    }
   ],
   "source": [
    "#criar população \n",
    "pop =  [[]]*50\n",
    "pop = [list(zip(np.array(random.sample(range(30), 12)) + 1.0, np.random.dirichlet(np.ones(12),size=1)[0])) for i in range(0, 50)]\n",
    "pop[0]"
   ]
  },
  {
   "cell_type": "code",
   "execution_count": 92,
   "metadata": {},
   "outputs": [
    {
     "data": {
      "text/plain": [
       "([(17.0, 0.05232993462438578),\n",
       "  (7.0, 0.2644631502265122),\n",
       "  (19.0, 0.1540614797485439),\n",
       "  (21.0, 0.07967128134241794),\n",
       "  (9.0, 0.2568993288189039),\n",
       "  (18.0, 0.02100489175719245),\n",
       "  (20.0, 0.007850972258454426),\n",
       "  (3.0, 0.10597871685596959),\n",
       "  (23.0, 0.011863480186640029),\n",
       "  (1.0, 0.02666209779892743),\n",
       "  (24.0, 0.0033936713955049604),\n",
       "  (6.0, 0.015820994986547078)],\n",
       " [(3.0, 0.12698035874910737),\n",
       "  (4.0, 0.048598120330202714),\n",
       "  (10.0, 0.060593796154093646),\n",
       "  (30.0, 0.02757180670837249),\n",
       "  (2.0, 0.031009914941509224),\n",
       "  (27.0, 0.00913660135260269),\n",
       "  (18.0, 0.001481105806025176),\n",
       "  (9.0, 0.07619279697639654),\n",
       "  (5.0, 0.04407790871681502),\n",
       "  (26.0, 0.06889662002102848),\n",
       "  (14.0, 0.20156357630883956),\n",
       "  (11.0, 0.303897393935007)])"
      ]
     },
     "execution_count": 92,
     "metadata": {},
     "output_type": "execute_result"
    }
   ],
   "source": [
    "def cruzamento(pai_1, pai_2):\n",
    "    individuo_1 = np.array(list(map(list, pai_1)))\n",
    "    individuo_2 = np.array(list(map(list, pai_2)))\n",
    "    filho_1 = list(zip(individuo_1[:,0], individuo_2[:,1]))\n",
    "    filho_2 = list(zip(individuo_2[:,0], individuo_1[:,1]))\n",
    "    return filho_1, filho_2\n",
    "cruzamento(pop[0], pop[1])\n"
   ]
  },
  {
   "cell_type": "code",
   "execution_count": null,
   "metadata": {},
   "outputs": [],
   "source": []
  }
 ],
 "metadata": {
  "kernelspec": {
   "display_name": "Python 3",
   "language": "python",
   "name": "python3"
  },
  "language_info": {
   "codemirror_mode": {
    "name": "ipython",
    "version": 3
   },
   "file_extension": ".py",
   "mimetype": "text/x-python",
   "name": "python",
   "nbconvert_exporter": "python",
   "pygments_lexer": "ipython3",
   "version": "3.7.1"
  }
 },
 "nbformat": 4,
 "nbformat_minor": 2
}
